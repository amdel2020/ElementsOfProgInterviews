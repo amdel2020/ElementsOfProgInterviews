{
 "cells": [
  {
   "cell_type": "markdown",
   "metadata": {},
   "source": [
    "6.1 Dutch National Flag Problem - \n",
    "\n",
    "Write a program that takes an array A and index i into A, and rearranges the elements such\n",
    "that all the elements less than A[i] (\"pivot\") appears first, followed by elements equal \n",
    "to the pivot, followed by elements greater than the pivot.\n",
    "\n",
    "\n",
    "Algorithm:\n",
    "\n",
    "- create two temp array - temp1 and temp2\n",
    "- for all elements of array from 0 to n-1\n",
    "    - if element is less than or equal to A[i], then append to temp1 else append to temp2\n",
    "- return temp1+A[i]+temp2\n",
    " "
   ]
  },
  {
   "cell_type": "code",
   "execution_count": 11,
   "metadata": {},
   "outputs": [
    {
     "name": "stdout",
     "output_type": "stream",
     "text": [
      "[0, 1, 0, 1, 1, 2, 2]\n"
     ]
    }
   ],
   "source": [
    "def Rearrange(arr, pivot):\n",
    "    temp1 = []\n",
    "    temp2 = []\n",
    "    temp3 = []\n",
    "    \n",
    "    for i in range(0, len(arr)):\n",
    "        if i != pivot:\n",
    "            if arr[i] < arr[pivot]:\n",
    "                temp1.append(arr[i])\n",
    "            elif arr[i] == arr[pivot]:\n",
    "                temp3.append(arr[i])\n",
    "            else:\n",
    "                temp2.append(arr[i])\n",
    "                \n",
    "    temp1 = temp1+temp3\n",
    "    temp1.append(arr[pivot])\n",
    "    return temp1 + temp2;\n",
    "\n",
    "arr = [0,1,2,0,2,1,1]\n",
    "print(Rearrange(arr, 2))"
   ]
  },
  {
   "cell_type": "markdown",
   "metadata": {},
   "source": [
    "6.2 INCREMENT AN ARBITRARY-PRECISION INTEGER\n",
    "\n",
    "Write a program which takes as input an array of digits encoding a decimal number D and updates the array to represent the number D + 1. For example, if the input  is (1,2,9) then you should update the array to (1,3,0). Your algorithm should work even if it is implemented in a language that has finite-precision arithmetic.\n",
    "\n",
    "\n",
    "Algorithm\n",
    "\n",
    "- if last element is < 9, then increment last number\n",
    "- if last number is 9, then make last element as 0 and move backwards till u reach end\n",
    "    - if last num is 9 in this process, insert extra element 1 at the beginning"
   ]
  },
  {
   "cell_type": "code",
   "execution_count": 14,
   "metadata": {},
   "outputs": [
    {
     "name": "stdout",
     "output_type": "stream",
     "text": [
      "[1, 1, 0]\n"
     ]
    }
   ],
   "source": [
    "def increment_number(arr):\n",
    "    length = len(arr)\n",
    "    \n",
    "    arr[length-1] += 1\n",
    "    \n",
    "    for i in range(0, length-1, -1):\n",
    "        # todo\n",
    "\n",
    "arr = [1,2,9]\n",
    "increment_number(arr)\n",
    "print(arr)\n",
    "            \n",
    "            "
   ]
  },
  {
   "cell_type": "markdown",
   "metadata": {},
   "source": [
    "6.3 MULTIPLY TWO ARBITRARY-PRECISION INTEGERS\n",
    "\n",
    "Write a program that takes two arrays representing integers, and returns an integer representing their product. For example, since 193707721 X -761838257287 = -147573952589676412927, if the inputs are  (1,9,3,7,0,7,7,2,1) and (-7,6,1,8,3,8,2,5,7,2,8,7), your function should return (-1,4,7,5,7,3,9,5,2,5,8,9,6,7,6,4,1,2,9,2,7).\n",
    " "
   ]
  },
  {
   "cell_type": "markdown",
   "metadata": {},
   "source": [
    "6.4 ADVANCING THROUGH AN ARRAY\n",
    " \n",
    "In a particular board game, a player has to try to advance through a sequence of positions. Each position has a nonnegative integer associated with it, representing the maximum you can advance from that position in one move. You begin at the first position,and winbygettingtothelastposition. Forexample,letA =(3,3,1,0,2,0,1} represent the board game, i.e., the ith entry in A is the maximum we can advance from i. Then the game can be won by the following sequence of advances through A: take 1 step from A[0] to A[1], then 3 steps from A[l] to A[4], then 2 steps from A[4] to A[6], which is the last position. Note that A[0] = 3 > 1, A[l] = 3 > 3, and A[4] = 2 > 2, so all moves are valid. If A instead was (3, 2, 0,0, 2, 0,1), it would not possible to advance past position 3, so the game cannot be won.\n",
    "Write a program which takes an array of n integers, where A[i] denotes the maximum you can advance from index i, and returns whether it is possible to advance to the last index starting from the beginning of the array"
   ]
  },
  {
   "cell_type": "markdown",
   "metadata": {},
   "source": [
    "6.5 DELETE DUPLICATES FROM A SORTED ARRAY\n",
    "\n",
    "Write a program which takes as input a sorted array and updates it so that all duplicates have been removed and the remaining elements have been shifted left to fill the emptied indices. Return the number of valid elements. Many languages have library functions for performing this operation—you cannot use these functions."
   ]
  }
 ],
 "metadata": {
  "kernelspec": {
   "display_name": "Python 3",
   "language": "python",
   "name": "python3"
  },
  "language_info": {
   "codemirror_mode": {
    "name": "ipython",
    "version": 3
   },
   "file_extension": ".py",
   "mimetype": "text/x-python",
   "name": "python",
   "nbconvert_exporter": "python",
   "pygments_lexer": "ipython3",
   "version": "3.7.2"
  }
 },
 "nbformat": 4,
 "nbformat_minor": 2
}
